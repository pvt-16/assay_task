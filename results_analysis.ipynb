{
 "cells": [
  {
   "cell_type": "code",
   "execution_count": 4,
   "metadata": {},
   "outputs": [],
   "source": [
    "import pandas as pd\n",
    "import warnings\n",
    "import sklearn as skl\n",
    "warnings.filterwarnings(\"ignore\")"
   ]
  },
  {
   "cell_type": "code",
   "execution_count": 52,
   "metadata": {},
   "outputs": [],
   "source": [
    "from sklearn.metrics import classification_report, accuracy_score, mean_absolute_percentage_error"
   ]
  },
  {
   "cell_type": "markdown",
   "metadata": {},
   "source": [
    "This function print the same evaluation metrics for all the methods"
   ]
  },
  {
   "cell_type": "code",
   "execution_count": 74,
   "metadata": {},
   "outputs": [],
   "source": [
    "def print_eval_metric(dataset, y_true_col, y_pred_col):\n",
    "    print(f'accuracy: {accuracy_score(dataset[y_true_col], dataset[y_pred_col])}')\n",
    "    # print(f'Mean absolute percentage error: {mean_absolute_percentage_error(dataset[y_true_col], dataset[y_pred_col])}')\n",
    "    print(classification_report(y_true=dataset[y_true_col], y_pred=dataset[y_pred_col]))"
   ]
  },
  {
   "cell_type": "code",
   "execution_count": 54,
   "metadata": {},
   "outputs": [],
   "source": [
    "# Read training dataset and test dataset (unknown samples)\n",
    "\n",
    "test_dataset = pd.read_csv('./new_files/test_dataset.csv')\n",
    "training_dataset = pd.read_csv('./new_files/training_dataset.csv')"
   ]
  },
  {
   "cell_type": "markdown",
   "metadata": {},
   "source": [
    "## Method 1"
   ]
  },
  {
   "cell_type": "markdown",
   "metadata": {},
   "source": [
    "Here we assess the the accuracy of the first method where we determine the presence/absence of the mutation based on the signal thresholds."
   ]
  },
  {
   "cell_type": "code",
   "execution_count": 10,
   "metadata": {},
   "outputs": [
    {
     "data": {
      "text/html": [
       "<div>\n",
       "<style scoped>\n",
       "    .dataframe tbody tr th:only-of-type {\n",
       "        vertical-align: middle;\n",
       "    }\n",
       "\n",
       "    .dataframe tbody tr th {\n",
       "        vertical-align: top;\n",
       "    }\n",
       "\n",
       "    .dataframe thead th {\n",
       "        text-align: right;\n",
       "    }\n",
       "</style>\n",
       "<table border=\"1\" class=\"dataframe\">\n",
       "  <thead>\n",
       "    <tr style=\"text-align: right;\">\n",
       "      <th></th>\n",
       "      <th>Unnamed: 0</th>\n",
       "      <th>Condition</th>\n",
       "      <th>targetID</th>\n",
       "      <th>signal_threshold</th>\n",
       "      <th>time_threshold(Cq)</th>\n",
       "    </tr>\n",
       "  </thead>\n",
       "  <tbody>\n",
       "    <tr>\n",
       "      <th>0</th>\n",
       "      <td>0</td>\n",
       "      <td>ConditionA</td>\n",
       "      <td>m0</td>\n",
       "      <td>118886</td>\n",
       "      <td>71</td>\n",
       "    </tr>\n",
       "    <tr>\n",
       "      <th>1</th>\n",
       "      <td>1</td>\n",
       "      <td>ConditionA</td>\n",
       "      <td>m1</td>\n",
       "      <td>135502</td>\n",
       "      <td>64</td>\n",
       "    </tr>\n",
       "    <tr>\n",
       "      <th>2</th>\n",
       "      <td>2</td>\n",
       "      <td>ConditionA</td>\n",
       "      <td>m2</td>\n",
       "      <td>118045</td>\n",
       "      <td>30</td>\n",
       "    </tr>\n",
       "    <tr>\n",
       "      <th>3</th>\n",
       "      <td>3</td>\n",
       "      <td>ConditionA</td>\n",
       "      <td>m3</td>\n",
       "      <td>126319</td>\n",
       "      <td>34</td>\n",
       "    </tr>\n",
       "    <tr>\n",
       "      <th>4</th>\n",
       "      <td>4</td>\n",
       "      <td>ConditionA</td>\n",
       "      <td>m4</td>\n",
       "      <td>125370</td>\n",
       "      <td>53</td>\n",
       "    </tr>\n",
       "    <tr>\n",
       "      <th>...</th>\n",
       "      <td>...</td>\n",
       "      <td>...</td>\n",
       "      <td>...</td>\n",
       "      <td>...</td>\n",
       "      <td>...</td>\n",
       "    </tr>\n",
       "    <tr>\n",
       "      <th>91</th>\n",
       "      <td>91</td>\n",
       "      <td>ConditionC</td>\n",
       "      <td>m27</td>\n",
       "      <td>105867</td>\n",
       "      <td>81</td>\n",
       "    </tr>\n",
       "    <tr>\n",
       "      <th>92</th>\n",
       "      <td>92</td>\n",
       "      <td>ConditionC</td>\n",
       "      <td>m28</td>\n",
       "      <td>142273</td>\n",
       "      <td>70</td>\n",
       "    </tr>\n",
       "    <tr>\n",
       "      <th>93</th>\n",
       "      <td>93</td>\n",
       "      <td>ConditionC</td>\n",
       "      <td>m29</td>\n",
       "      <td>132455</td>\n",
       "      <td>47</td>\n",
       "    </tr>\n",
       "    <tr>\n",
       "      <th>94</th>\n",
       "      <td>94</td>\n",
       "      <td>ConditionC</td>\n",
       "      <td>m30</td>\n",
       "      <td>59661</td>\n",
       "      <td>73</td>\n",
       "    </tr>\n",
       "    <tr>\n",
       "      <th>95</th>\n",
       "      <td>95</td>\n",
       "      <td>ConditionC</td>\n",
       "      <td>m31</td>\n",
       "      <td>197601</td>\n",
       "      <td>125</td>\n",
       "    </tr>\n",
       "  </tbody>\n",
       "</table>\n",
       "<p>96 rows × 5 columns</p>\n",
       "</div>"
      ],
      "text/plain": [
       "    Unnamed: 0   Condition targetID  signal_threshold  time_threshold(Cq)\n",
       "0            0  ConditionA       m0            118886                  71\n",
       "1            1  ConditionA       m1            135502                  64\n",
       "2            2  ConditionA       m2            118045                  30\n",
       "3            3  ConditionA       m3            126319                  34\n",
       "4            4  ConditionA       m4            125370                  53\n",
       "..         ...         ...      ...               ...                 ...\n",
       "91          91  ConditionC      m27            105867                  81\n",
       "92          92  ConditionC      m28            142273                  70\n",
       "93          93  ConditionC      m29            132455                  47\n",
       "94          94  ConditionC      m30             59661                  73\n",
       "95          95  ConditionC      m31            197601                 125\n",
       "\n",
       "[96 rows x 5 columns]"
      ]
     },
     "execution_count": 10,
     "metadata": {},
     "output_type": "execute_result"
    }
   ],
   "source": [
    "# This file contains the Cq calculated when we keep a safe margin of atleast 100000 units of DIFFERENCE in the amplitudes between the present and absent samples.\n",
    "thresholds_fixed = pd.read_csv('./new_files/thresholds_fixed.csv') \n",
    "thresholds = pd.read_csv('./new_files/thresholds_100000.csv') # This file contains the Cq calculated when we keep 100000 units of amplitude as the threshold to be crossed only.\n",
    "# thresholds"
   ]
  },
  {
   "cell_type": "markdown",
   "metadata": {},
   "source": [
    "Testing the signal thresholds\n",
    "\n",
    "```\n",
    "# thresholds.query('signal_threshold < 100000')\n",
    "# thresholds.query('Condition == \"ConditionA\" and targetID == \"m1\"')['signal_threshold'].iloc[0]\n",
    "# test_condA_targetm1 = test_dataset.query('condition == \"ConditionA\" and targetID == \"m1\"')\n",
    "# test_condA_targetm2 = test_dataset.query('condition == \"ConditionA\" and targetID == \"m2\"')\n",
    "# test_condA_targetm10 = test_dataset.query('condition == \"ConditionA\" and targetID == \"m10\"')\n",
    "```"
   ]
  },
  {
   "cell_type": "code",
   "execution_count": 55,
   "metadata": {},
   "outputs": [],
   "source": [
    "## Creating an unique list of condition and targets \n",
    "\n",
    "all_condtions = test_dataset.condition.unique()\n",
    "all_targets = test_dataset.targetID.unique()"
   ]
  },
  {
   "cell_type": "markdown",
   "metadata": {},
   "source": [
    "Here we create a new column called 'new_status' that determines if a mutation is absent/present based on the signal thresholds we calculated in the modelling.ipynb. We create this for both the training dataset and the test dataset. "
   ]
  },
  {
   "cell_type": "code",
   "execution_count": 66,
   "metadata": {},
   "outputs": [],
   "source": [
    "def add_new_status(test_dataset, thresholds = thresholds):\n",
    "    test_dataset_new = test_dataset.copy()\n",
    "    for cond in all_condtions:\n",
    "        for target in all_targets:\n",
    "            threshold_values = thresholds.query(f'Condition == \"{cond}\" and targetID == \"{target}\"')\n",
    "\n",
    "            sig_threshold = threshold_values['signal_threshold'].iloc[0]\n",
    "            time_threshold = threshold_values['time_threshold(Cq)'].iloc[0]\n",
    "\n",
    "            if sig_threshold != -1 and time_threshold!= -1:\n",
    "                test_dataset_new.loc[(test_dataset_new.condition==cond) & (test_dataset_new.targetID == target), 'new_status'] =  test_dataset_new.iloc[:,time_threshold].apply(lambda x : 'present' if x>= sig_threshold else 'absent')\n",
    "            else:\n",
    "                test_dataset_new.loc[(test_dataset_new.condition==cond) & (test_dataset_new.targetID == target), 'new_status'] = 'absent'\n",
    "    return test_dataset_new"
   ]
  },
  {
   "cell_type": "code",
   "execution_count": 68,
   "metadata": {},
   "outputs": [],
   "source": [
    "test_dataset_new = add_new_status(test_dataset)"
   ]
  },
  {
   "cell_type": "code",
   "execution_count": 67,
   "metadata": {},
   "outputs": [],
   "source": [
    "train_dataset_new = add_new_status(training_dataset)"
   ]
  },
  {
   "cell_type": "code",
   "execution_count": 69,
   "metadata": {},
   "outputs": [],
   "source": [
    "train_dataset_new_fixed = add_new_status(training_dataset, thresholds= thresholds_fixed)"
   ]
  },
  {
   "cell_type": "code",
   "execution_count": 70,
   "metadata": {},
   "outputs": [],
   "source": [
    "test_dataset_new_fixed = add_new_status(test_dataset, thresholds= thresholds_fixed)"
   ]
  },
  {
   "cell_type": "markdown",
   "metadata": {},
   "source": [
    "##### Comparing statuses for the known samples with fixed threshold (Method 1 Technique 1)"
   ]
  },
  {
   "cell_type": "code",
   "execution_count": 71,
   "metadata": {},
   "outputs": [
    {
     "data": {
      "text/plain": [
       "status\n",
       "absent     2688\n",
       "present     384\n",
       "Name: count, dtype: int64"
      ]
     },
     "execution_count": 71,
     "metadata": {},
     "output_type": "execute_result"
    }
   ],
   "source": [
    "# Check the original status distribution\n",
    "train_dataset_new_fixed.status.value_counts()"
   ]
  },
  {
   "cell_type": "code",
   "execution_count": 72,
   "metadata": {},
   "outputs": [
    {
     "data": {
      "text/plain": [
       "new_status\n",
       "absent     2720\n",
       "present     352\n",
       "Name: count, dtype: int64"
      ]
     },
     "execution_count": 72,
     "metadata": {},
     "output_type": "execute_result"
    }
   ],
   "source": [
    "# Check the new status distribution after thresholds\n",
    "train_dataset_new_fixed.new_status.value_counts()"
   ]
  },
  {
   "cell_type": "code",
   "execution_count": 75,
   "metadata": {},
   "outputs": [
    {
     "name": "stdout",
     "output_type": "stream",
     "text": [
      "accuracy: 0.9895833333333334\n",
      "              precision    recall  f1-score   support\n",
      "\n",
      "      absent       0.99      1.00      0.99      2688\n",
      "     present       1.00      0.92      0.96       384\n",
      "\n",
      "    accuracy                           0.99      3072\n",
      "   macro avg       0.99      0.96      0.98      3072\n",
      "weighted avg       0.99      0.99      0.99      3072\n",
      "\n"
     ]
    }
   ],
   "source": [
    "print_eval_metric(train_dataset_new_fixed, 'status', 'new_status')"
   ]
  },
  {
   "cell_type": "markdown",
   "metadata": {},
   "source": [
    "##### Comparing statuses for the known samples with fixed DIFFERENCE threshold (Method 1 Technique 2)"
   ]
  },
  {
   "cell_type": "code",
   "execution_count": 15,
   "metadata": {},
   "outputs": [
    {
     "data": {
      "text/plain": [
       "new_status\n",
       "absent     2728\n",
       "present     344\n",
       "Name: count, dtype: int64"
      ]
     },
     "execution_count": 15,
     "metadata": {},
     "output_type": "execute_result"
    }
   ],
   "source": [
    "train_dataset_new.new_status.value_counts()"
   ]
  },
  {
   "cell_type": "code",
   "execution_count": 24,
   "metadata": {},
   "outputs": [
    {
     "name": "stdout",
     "output_type": "stream",
     "text": [
      "accuracy: 0.9869791666666666\n",
      "              precision    recall  f1-score   support\n",
      "\n",
      "      absent       0.99      1.00      0.99      2688\n",
      "     present       1.00      0.90      0.95       384\n",
      "\n",
      "    accuracy                           0.99      3072\n",
      "   macro avg       0.99      0.95      0.97      3072\n",
      "weighted avg       0.99      0.99      0.99      3072\n",
      "\n"
     ]
    }
   ],
   "source": [
    "print_eval_metric(train_dataset_new, 'status', 'new_status')"
   ]
  },
  {
   "cell_type": "markdown",
   "metadata": {},
   "source": [
    "Checking the original and new status for each condition"
   ]
  },
  {
   "cell_type": "code",
   "execution_count": 41,
   "metadata": {},
   "outputs": [
    {
     "name": "stdout",
     "output_type": "stream",
     "text": [
      "accuracy: 1.0\n",
      "              precision    recall  f1-score   support\n",
      "\n",
      "      absent       1.00      1.00      1.00       896\n",
      "     present       1.00      1.00      1.00       128\n",
      "\n",
      "    accuracy                           1.00      1024\n",
      "   macro avg       1.00      1.00      1.00      1024\n",
      "weighted avg       1.00      1.00      1.00      1024\n",
      "\n"
     ]
    }
   ],
   "source": [
    "print_eval_metric(train_dataset_new[train_dataset_new.condition == 'ConditionA'], 'status', 'new_status')\n"
   ]
  },
  {
   "cell_type": "code",
   "execution_count": 42,
   "metadata": {},
   "outputs": [
    {
     "name": "stdout",
     "output_type": "stream",
     "text": [
      "accuracy: 0.98828125\n",
      "              precision    recall  f1-score   support\n",
      "\n",
      "      absent       0.99      1.00      0.99       896\n",
      "     present       1.00      0.91      0.95       128\n",
      "\n",
      "    accuracy                           0.99      1024\n",
      "   macro avg       0.99      0.95      0.97      1024\n",
      "weighted avg       0.99      0.99      0.99      1024\n",
      "\n"
     ]
    }
   ],
   "source": [
    "print_eval_metric(train_dataset_new[train_dataset_new.condition == 'ConditionB'], 'status', 'new_status')\n"
   ]
  },
  {
   "cell_type": "code",
   "execution_count": 43,
   "metadata": {},
   "outputs": [
    {
     "name": "stdout",
     "output_type": "stream",
     "text": [
      "accuracy: 0.97265625\n",
      "              precision    recall  f1-score   support\n",
      "\n",
      "      absent       0.97      1.00      0.98       896\n",
      "     present       1.00      0.78      0.88       128\n",
      "\n",
      "    accuracy                           0.97      1024\n",
      "   macro avg       0.98      0.89      0.93      1024\n",
      "weighted avg       0.97      0.97      0.97      1024\n",
      "\n"
     ]
    }
   ],
   "source": [
    "print_eval_metric(train_dataset_new[train_dataset_new.condition == 'ConditionC'], 'status', 'new_status')"
   ]
  },
  {
   "cell_type": "markdown",
   "metadata": {},
   "source": [
    "Here we see that both methods are highly accurate ( 98%) in determing the presence of the mutations based on the Cq threshold calculations only. On predicting the status of mutation presence on the known samples, we see that condition A has 100% accuracy i.e, all the known samples were correctly identified with the thresholds. We see Condition B and Condition C has lower accuracy and this is further looked into in the conclusion."
   ]
  },
  {
   "cell_type": "markdown",
   "metadata": {},
   "source": [
    "## Method 2: Machine Learning"
   ]
  },
  {
   "cell_type": "code",
   "execution_count": 1,
   "metadata": {},
   "outputs": [],
   "source": [
    "\n",
    "import joblib\n",
    "from sklearn.ensemble import VotingClassifier\n",
    "from sklearn.model_selection import train_test_split"
   ]
  },
  {
   "cell_type": "code",
   "execution_count": 2,
   "metadata": {},
   "outputs": [],
   "source": [
    "model_cond_all = joblib.load( filename=\"./new_files/model_all_data.joblib\")\n",
    "model_condA =joblib.load( filename=\"./new_files/model_condA.joblib\")\n",
    "model_condB =joblib.load( filename=\"./new_files/model_condB.joblib\")\n",
    "model_condC =joblib.load( filename=\"./new_files/model_condC.joblib\")"
   ]
  },
  {
   "cell_type": "markdown",
   "metadata": {},
   "source": [
    "### Comparing classifiers"
   ]
  },
  {
   "cell_type": "markdown",
   "metadata": {},
   "source": [
    "Here we compare a Voting classifer made of the Decision Trees trained on each condition separately vs a combined model."
   ]
  },
  {
   "cell_type": "code",
   "execution_count": 28,
   "metadata": {},
   "outputs": [],
   "source": [
    "X = training_dataset.iloc[:,:180]\n",
    "y = training_dataset.status"
   ]
  },
  {
   "cell_type": "code",
   "execution_count": 76,
   "metadata": {},
   "outputs": [],
   "source": [
    "# Creating an ensemble voting classifier\n",
    "ensemble_model = VotingClassifier(estimators=[\n",
    "    ('tree_A', model_condA),\n",
    "    ('tree_B', model_condB),\n",
    "    ('tree_C', model_condC)\n",
    "], voting='hard')"
   ]
  },
  {
   "cell_type": "code",
   "execution_count": 29,
   "metadata": {},
   "outputs": [],
   "source": [
    "X_train, X_test, y_train, y_test = train_test_split(X, y, test_size=0.2, stratify=y, random_state=42)"
   ]
  },
  {
   "cell_type": "code",
   "execution_count": 37,
   "metadata": {},
   "outputs": [
    {
     "name": "stdout",
     "output_type": "stream",
     "text": [
      "              precision    recall  f1-score   support\n",
      "\n",
      "      absent       0.95      0.99      0.97       538\n",
      "     present       0.91      0.66      0.77        77\n",
      "\n",
      "    accuracy                           0.95       615\n",
      "   macro avg       0.93      0.83      0.87       615\n",
      "weighted avg       0.95      0.95      0.95       615\n",
      "\n",
      "accuracy 0.9495934959349593\n"
     ]
    }
   ],
   "source": [
    "## a Voting classifer made of the Decision Trees trained on each condition separately\n",
    "\n",
    "ensemble_model.fit(X_train, y_train)\n",
    "y_pred = ensemble_model.predict(X_test)\n",
    "print(classification_report(y_true=y_test, y_pred=y_pred))\n",
    "print('accuracy', accuracy_score(y_true=y_test, y_pred=y_pred))"
   ]
  },
  {
   "cell_type": "code",
   "execution_count": 77,
   "metadata": {},
   "outputs": [
    {
     "name": "stdout",
     "output_type": "stream",
     "text": [
      "              precision    recall  f1-score   support\n",
      "\n",
      "      absent       0.97      1.00      0.98       538\n",
      "     present       0.98      0.78      0.87        77\n",
      "\n",
      "    accuracy                           0.97       615\n",
      "   macro avg       0.98      0.89      0.93       615\n",
      "weighted avg       0.97      0.97      0.97       615\n",
      "\n",
      "accuracy 0.9707317073170731\n"
     ]
    }
   ],
   "source": [
    "# Decision TreeClassifier trained on all the data\n",
    "\n",
    "y_pred_all = model_cond_all.predict(X_test)\n",
    "print(classification_report(y_true=y_test, y_pred=y_pred_all))\n",
    "print('accuracy', accuracy_score(y_true=y_test, y_pred=y_pred_all))"
   ]
  },
  {
   "cell_type": "markdown",
   "metadata": {},
   "source": [
    "When comparing 2 models - a ensemble model with 3 decision trees, each specializing in a single condition vs a single decision tree that is trained on data from all the three conditions (generic tree) - we see that the generic tree performs better than the ensemble. This could be a result of hard voting mechanism where the sample is being correctly labelled by the tree condition it belongs to but fails on the other two trees. But the high accuracy (94%) suggests that the three methods have sample behaviours in common as well and that is worth further investigation.\n"
   ]
  },
  {
   "cell_type": "markdown",
   "metadata": {},
   "source": [
    "### Testing the individual decision trees on the individual data"
   ]
  },
  {
   "cell_type": "code",
   "execution_count": 45,
   "metadata": {},
   "outputs": [],
   "source": [
    "training_dataset_A = training_dataset[training_dataset.condition == 'ConditionA']\n",
    "training_dataset_B = training_dataset[training_dataset.condition == 'ConditionB']\n",
    "training_dataset_C = training_dataset[training_dataset.condition == 'ConditionC']"
   ]
  },
  {
   "cell_type": "code",
   "execution_count": 47,
   "metadata": {},
   "outputs": [],
   "source": [
    "y_pred_A = model_condA.predict(training_dataset_A.iloc[:,:180])\n",
    "y_pred_B = model_condA.predict(training_dataset_B.iloc[:,:180])\n",
    "y_pred_C = model_condA.predict(training_dataset_C.iloc[:,:180])"
   ]
  },
  {
   "cell_type": "code",
   "execution_count": 49,
   "metadata": {},
   "outputs": [
    {
     "name": "stdout",
     "output_type": "stream",
     "text": [
      "              precision    recall  f1-score   support\n",
      "\n",
      "      absent       0.98      0.99      0.99       896\n",
      "     present       0.93      0.86      0.89       128\n",
      "\n",
      "    accuracy                           0.97      1024\n",
      "   macro avg       0.96      0.93      0.94      1024\n",
      "weighted avg       0.97      0.97      0.97      1024\n",
      "\n",
      "accuracy 0.974609375\n"
     ]
    }
   ],
   "source": [
    "# Decision Tree Results for condition A\n",
    "print(classification_report(y_true=training_dataset_A.status, y_pred=y_pred_A))\n",
    "print('accuracy', accuracy_score(y_true=training_dataset_A.status, y_pred=y_pred_A))"
   ]
  },
  {
   "cell_type": "code",
   "execution_count": 50,
   "metadata": {},
   "outputs": [
    {
     "name": "stdout",
     "output_type": "stream",
     "text": [
      "              precision    recall  f1-score   support\n",
      "\n",
      "      absent       0.97      0.86      0.91       896\n",
      "     present       0.46      0.84      0.59       128\n",
      "\n",
      "    accuracy                           0.85      1024\n",
      "   macro avg       0.71      0.85      0.75      1024\n",
      "weighted avg       0.91      0.85      0.87      1024\n",
      "\n",
      "accuracy 0.8544921875\n"
     ]
    }
   ],
   "source": [
    "# Decision Tree Results for condition B\n",
    "\n",
    "print(classification_report(y_true=training_dataset_B.status, y_pred=y_pred_B))\n",
    "print('accuracy', accuracy_score(y_true=training_dataset_B.status, y_pred=y_pred_B))"
   ]
  },
  {
   "cell_type": "code",
   "execution_count": 51,
   "metadata": {},
   "outputs": [
    {
     "name": "stdout",
     "output_type": "stream",
     "text": [
      "              precision    recall  f1-score   support\n",
      "\n",
      "      absent       0.96      0.95      0.95       896\n",
      "     present       0.67      0.73      0.70       128\n",
      "\n",
      "    accuracy                           0.92      1024\n",
      "   macro avg       0.81      0.84      0.83      1024\n",
      "weighted avg       0.92      0.92      0.92      1024\n",
      "\n",
      "accuracy 0.9208984375\n"
     ]
    }
   ],
   "source": [
    "# Decision Tree Results for condition C\n",
    "\n",
    "print(classification_report(y_true=training_dataset_C.status, y_pred=y_pred_C))\n",
    "print('accuracy', accuracy_score(y_true=training_dataset_C.status, y_pred=y_pred_C))"
   ]
  },
  {
   "cell_type": "markdown",
   "metadata": {},
   "source": [
    "# Conclusions"
   ]
  },
  {
   "cell_type": "markdown",
   "metadata": {},
   "source": [
    "## Which of the 3 assay versions is the best overall?"
   ]
  },
  {
   "cell_type": "markdown",
   "metadata": {},
   "source": [
    "Considering the nature of the dataset, I would say it is key that we absolutely need to detect a mutation when it is present as it is imperative to the patient health, and a missed mutation can lead to negative patient outcomes. \n",
    "\n",
    "<!-- Let us consider the presence of a mutation is a postive class and the absence of mutation is the negative class. \n",
    "\n",
    "A false positive, i.e. the model report presence of a mutation, can be further verified using different clinical methods, and medical tests. On the other hand \n",
    "\n",
    "A model that is highly accurate and has a low False negative rate -->"
   ]
  },
  {
   "cell_type": "markdown",
   "metadata": {},
   "source": [
    "From the threshold estimations, we can see that, both condition B and C have several samples for which the Cq could not be determined. This means that we could not find a significant time of observation that could help us conclude if a mutation is present or not for these versions. Since we assign -1 as the signal and time threshold if we can't find any, we can see the conditions and targets where we can't detect a mutation reliably -"
   ]
  },
  {
   "cell_type": "code",
   "execution_count": 39,
   "metadata": {},
   "outputs": [
    {
     "data": {
      "text/html": [
       "<div>\n",
       "<style scoped>\n",
       "    .dataframe tbody tr th:only-of-type {\n",
       "        vertical-align: middle;\n",
       "    }\n",
       "\n",
       "    .dataframe tbody tr th {\n",
       "        vertical-align: top;\n",
       "    }\n",
       "\n",
       "    .dataframe thead th {\n",
       "        text-align: right;\n",
       "    }\n",
       "</style>\n",
       "<table border=\"1\" class=\"dataframe\">\n",
       "  <thead>\n",
       "    <tr style=\"text-align: right;\">\n",
       "      <th></th>\n",
       "      <th>Unnamed: 0</th>\n",
       "      <th>Condition</th>\n",
       "      <th>targetID</th>\n",
       "      <th>signal_threshold</th>\n",
       "      <th>time_threshold(Cq)</th>\n",
       "    </tr>\n",
       "  </thead>\n",
       "  <tbody>\n",
       "    <tr>\n",
       "      <th>48</th>\n",
       "      <td>48</td>\n",
       "      <td>ConditionB</td>\n",
       "      <td>m16</td>\n",
       "      <td>-1</td>\n",
       "      <td>-1</td>\n",
       "    </tr>\n",
       "    <tr>\n",
       "      <th>55</th>\n",
       "      <td>55</td>\n",
       "      <td>ConditionB</td>\n",
       "      <td>m23</td>\n",
       "      <td>-1</td>\n",
       "      <td>-1</td>\n",
       "    </tr>\n",
       "    <tr>\n",
       "      <th>64</th>\n",
       "      <td>64</td>\n",
       "      <td>ConditionC</td>\n",
       "      <td>m0</td>\n",
       "      <td>-1</td>\n",
       "      <td>-1</td>\n",
       "    </tr>\n",
       "    <tr>\n",
       "      <th>77</th>\n",
       "      <td>77</td>\n",
       "      <td>ConditionC</td>\n",
       "      <td>m13</td>\n",
       "      <td>-1</td>\n",
       "      <td>-1</td>\n",
       "    </tr>\n",
       "    <tr>\n",
       "      <th>80</th>\n",
       "      <td>80</td>\n",
       "      <td>ConditionC</td>\n",
       "      <td>m16</td>\n",
       "      <td>-1</td>\n",
       "      <td>-1</td>\n",
       "    </tr>\n",
       "    <tr>\n",
       "      <th>83</th>\n",
       "      <td>83</td>\n",
       "      <td>ConditionC</td>\n",
       "      <td>m19</td>\n",
       "      <td>-1</td>\n",
       "      <td>-1</td>\n",
       "    </tr>\n",
       "    <tr>\n",
       "      <th>85</th>\n",
       "      <td>85</td>\n",
       "      <td>ConditionC</td>\n",
       "      <td>m21</td>\n",
       "      <td>-1</td>\n",
       "      <td>-1</td>\n",
       "    </tr>\n",
       "    <tr>\n",
       "      <th>86</th>\n",
       "      <td>86</td>\n",
       "      <td>ConditionC</td>\n",
       "      <td>m22</td>\n",
       "      <td>-1</td>\n",
       "      <td>-1</td>\n",
       "    </tr>\n",
       "  </tbody>\n",
       "</table>\n",
       "</div>"
      ],
      "text/plain": [
       "    Unnamed: 0   Condition targetID  signal_threshold  time_threshold(Cq)\n",
       "48          48  ConditionB      m16                -1                  -1\n",
       "55          55  ConditionB      m23                -1                  -1\n",
       "64          64  ConditionC       m0                -1                  -1\n",
       "77          77  ConditionC      m13                -1                  -1\n",
       "80          80  ConditionC      m16                -1                  -1\n",
       "83          83  ConditionC      m19                -1                  -1\n",
       "85          85  ConditionC      m21                -1                  -1\n",
       "86          86  ConditionC      m22                -1                  -1"
      ]
     },
     "execution_count": 39,
     "metadata": {},
     "output_type": "execute_result"
    }
   ],
   "source": [
    "thresholds_fixed.query(\"signal_threshold < 0\")"
   ]
  },
  {
   "cell_type": "code",
   "execution_count": 40,
   "metadata": {},
   "outputs": [
    {
     "data": {
      "text/html": [
       "<div>\n",
       "<style scoped>\n",
       "    .dataframe tbody tr th:only-of-type {\n",
       "        vertical-align: middle;\n",
       "    }\n",
       "\n",
       "    .dataframe tbody tr th {\n",
       "        vertical-align: top;\n",
       "    }\n",
       "\n",
       "    .dataframe thead th {\n",
       "        text-align: right;\n",
       "    }\n",
       "</style>\n",
       "<table border=\"1\" class=\"dataframe\">\n",
       "  <thead>\n",
       "    <tr style=\"text-align: right;\">\n",
       "      <th></th>\n",
       "      <th>Unnamed: 0</th>\n",
       "      <th>Condition</th>\n",
       "      <th>targetID</th>\n",
       "      <th>signal_threshold</th>\n",
       "      <th>time_threshold(Cq)</th>\n",
       "    </tr>\n",
       "  </thead>\n",
       "  <tbody>\n",
       "    <tr>\n",
       "      <th>48</th>\n",
       "      <td>48</td>\n",
       "      <td>ConditionB</td>\n",
       "      <td>m16</td>\n",
       "      <td>-1</td>\n",
       "      <td>-1</td>\n",
       "    </tr>\n",
       "    <tr>\n",
       "      <th>55</th>\n",
       "      <td>55</td>\n",
       "      <td>ConditionB</td>\n",
       "      <td>m23</td>\n",
       "      <td>-1</td>\n",
       "      <td>-1</td>\n",
       "    </tr>\n",
       "    <tr>\n",
       "      <th>58</th>\n",
       "      <td>58</td>\n",
       "      <td>ConditionB</td>\n",
       "      <td>m26</td>\n",
       "      <td>-1</td>\n",
       "      <td>-1</td>\n",
       "    </tr>\n",
       "    <tr>\n",
       "      <th>64</th>\n",
       "      <td>64</td>\n",
       "      <td>ConditionC</td>\n",
       "      <td>m0</td>\n",
       "      <td>-1</td>\n",
       "      <td>-1</td>\n",
       "    </tr>\n",
       "    <tr>\n",
       "      <th>72</th>\n",
       "      <td>72</td>\n",
       "      <td>ConditionC</td>\n",
       "      <td>m8</td>\n",
       "      <td>-1</td>\n",
       "      <td>-1</td>\n",
       "    </tr>\n",
       "    <tr>\n",
       "      <th>77</th>\n",
       "      <td>77</td>\n",
       "      <td>ConditionC</td>\n",
       "      <td>m13</td>\n",
       "      <td>-1</td>\n",
       "      <td>-1</td>\n",
       "    </tr>\n",
       "    <tr>\n",
       "      <th>80</th>\n",
       "      <td>80</td>\n",
       "      <td>ConditionC</td>\n",
       "      <td>m16</td>\n",
       "      <td>-1</td>\n",
       "      <td>-1</td>\n",
       "    </tr>\n",
       "    <tr>\n",
       "      <th>83</th>\n",
       "      <td>83</td>\n",
       "      <td>ConditionC</td>\n",
       "      <td>m19</td>\n",
       "      <td>-1</td>\n",
       "      <td>-1</td>\n",
       "    </tr>\n",
       "    <tr>\n",
       "      <th>85</th>\n",
       "      <td>85</td>\n",
       "      <td>ConditionC</td>\n",
       "      <td>m21</td>\n",
       "      <td>-1</td>\n",
       "      <td>-1</td>\n",
       "    </tr>\n",
       "    <tr>\n",
       "      <th>86</th>\n",
       "      <td>86</td>\n",
       "      <td>ConditionC</td>\n",
       "      <td>m22</td>\n",
       "      <td>-1</td>\n",
       "      <td>-1</td>\n",
       "    </tr>\n",
       "  </tbody>\n",
       "</table>\n",
       "</div>"
      ],
      "text/plain": [
       "    Unnamed: 0   Condition targetID  signal_threshold  time_threshold(Cq)\n",
       "48          48  ConditionB      m16                -1                  -1\n",
       "55          55  ConditionB      m23                -1                  -1\n",
       "58          58  ConditionB      m26                -1                  -1\n",
       "64          64  ConditionC       m0                -1                  -1\n",
       "72          72  ConditionC       m8                -1                  -1\n",
       "77          77  ConditionC      m13                -1                  -1\n",
       "80          80  ConditionC      m16                -1                  -1\n",
       "83          83  ConditionC      m19                -1                  -1\n",
       "85          85  ConditionC      m21                -1                  -1\n",
       "86          86  ConditionC      m22                -1                  -1"
      ]
     },
     "execution_count": 40,
     "metadata": {},
     "output_type": "execute_result"
    }
   ],
   "source": [
    "thresholds.query(\"signal_threshold < 0\")\n"
   ]
  },
  {
   "cell_type": "markdown",
   "metadata": {},
   "source": [
    "Whereas for condition A, we could calculate a specific time threshold Cq for all the targets at which we can definitely detect a mutation. For condition A, we get 100% accuracy of the status detection with both threshold calculation methods, whereas for Condition B and C, we couldn't find the threshold for  several samples and these were inaccurately labelled. \n",
    "\n",
    "Based on Technique 1, condition A is the best assay version."
   ]
  },
  {
   "cell_type": "markdown",
   "metadata": {},
   "source": [
    "## Approach Improvements ideas\n"
   ]
  },
  {
   "cell_type": "markdown",
   "metadata": {},
   "source": [
    "1. Feature Engineering for Machine Learning\n",
    "\n",
    "-  Taking advantage of the temporal nature of the data by defining new features that can improve the detection of the mutation early. In this particular dataset, I would like to create new features for each sample based on a fixed time interval for observation. For example, we can calculate basic statistical representations of every 30s interval of data i.e., mean, median, skewness, kurtosis etc. that better represent the behaviour over time. \n",
    "\n",
    "- We can discard the 180 columns and use only these new features for training against every sample. This would reduce the computation required to train large datasets as we are dealing with significantly less features (<180). \n",
    "\n",
    "- A combination of these statistical features can studied across all three conditions to determine what performs best.\n",
    "\n",
    "- The time interval can be a hyperparameter, i.e, 15/30/45/60/75/90/105 seconds etc. (either cummulative or segmented) that is created and tuned with a smaller subset of data before training the ML model. This can increase the computation costs pre-training.\n"
   ]
  },
  {
   "cell_type": "markdown",
   "metadata": {},
   "source": [
    "2. Modelling for Machine Learning\n",
    "\n",
    "- I have used a standard version of the Decision Tree and Ensemble model to determine the presence of mutation as reasoned in the modelling.ipynb notebook. However, this can further experimented upon with different models such as SVC which can define clear boundaries in a different space between present and absent samples.\n",
    "\n",
    "- Clustering methods can be used with timeseries data to group and understand underlying patterns between the samples. However, due to the small size of the samples, there is a higer chance of detecting random patterns and thus this has been skipped."
   ]
  },
  {
   "cell_type": "markdown",
   "metadata": {},
   "source": [
    "3. Dimensionality Reduction\n",
    "\n",
    "- In this modelling process, I have used two extreme methods to feature selection. One includes all the 180 seconds of observation for each sample and the other involves using only 2 statistical features. Instead of these extremes, we can explore alternative combinations of features - new and original - and reduce the dimensions of the training dataset from 180+ to a combination of orthogonal features (for example PCA) and get better results."
   ]
  },
  {
   "cell_type": "markdown",
   "metadata": {},
   "source": [
    "4. Balancing the dataset during training\n",
    "\n",
    "- Another technique to be applied in the data preparation stage is oversampling of the samples with the mutation present or undersampling the absent samples so that we train the model on a balanced dataset that has equal split of both classes and can understand the patterns better.\n"
   ]
  }
 ],
 "metadata": {
  "kernelspec": {
   "display_name": "Python 3",
   "language": "python",
   "name": "python3"
  },
  "language_info": {
   "codemirror_mode": {
    "name": "ipython",
    "version": 3
   },
   "file_extension": ".py",
   "mimetype": "text/x-python",
   "name": "python",
   "nbconvert_exporter": "python",
   "pygments_lexer": "ipython3",
   "version": "3.11.0"
  }
 },
 "nbformat": 4,
 "nbformat_minor": 2
}
